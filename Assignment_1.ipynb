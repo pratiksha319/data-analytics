{
  "nbformat": 4,
  "nbformat_minor": 0,
  "metadata": {
    "colab": {
      "provenance": []
    },
    "kernelspec": {
      "name": "python3",
      "display_name": "Python 3"
    },
    "language_info": {
      "name": "python"
    }
  },
  "cells": [
    {
      "cell_type": "code",
      "execution_count": null,
      "metadata": {
        "id": "0XfwHf9yinU1"
      },
      "outputs": [],
      "source": []
    },
    {
      "cell_type": "markdown",
      "source": [
        " 1. What is Python, and why is it popular?"
      ],
      "metadata": {
        "id": "Uw5wT307ityy"
      }
    },
    {
      "cell_type": "markdown",
      "source": [],
      "metadata": {
        "id": "OqsLIZ0wqwRk"
      }
    },
    {
      "cell_type": "markdown",
      "source": [
        "- Python is a high-level, interpreted programming language known for its simplicity and readability. It's popular due to its versatility, allowing it to be used for web development, data science, AI, and more, as well as its large community and extensive libraries."
      ],
      "metadata": {
        "id": "fBcmorC6jEZk"
      }
    },
    {
      "cell_type": "markdown",
      "source": [
        "2. What is an interpreter in Python ?"
      ],
      "metadata": {
        "id": "UcxMd17sj44M"
      }
    },
    {
      "cell_type": "markdown",
      "source": [
        "3. What are pre-defined keywords in Python ?"
      ],
      "metadata": {
        "id": "s2gt5WqYkZ0I"
      }
    },
    {
      "cell_type": "markdown",
      "source": [
        "- An interpreter in Python is a program that reads and executes Python code line by line. It  the human-readable code into machine-executable instructions directly, without the need for a separate compilation step."
      ],
      "metadata": {
        "id": "fxJ3kr59kHQ9"
      }
    },
    {
      "cell_type": "markdown",
      "source": [
        "- Python has 35 pre-defined keywords that are reserved and have specific meanings. You cannot use them for variable names or other identifiers.For example if,elif,else etc"
      ],
      "metadata": {
        "id": "255_PY0zkv8a"
      }
    },
    {
      "cell_type": "markdown",
      "source": [
        "4. Can keywords be used as variable names ?"
      ],
      "metadata": {
        "id": "AfHN_MLElj1F"
      }
    },
    {
      "cell_type": "markdown",
      "source": [
        "- No, keywords cannot be used as variable names in Python."
      ],
      "metadata": {
        "id": "wgrlNGS1lqAH"
      }
    },
    {
      "cell_type": "markdown",
      "source": [
        "5. What is mutability in Python"
      ],
      "metadata": {
        "id": "loazuDnVl8Di"
      }
    },
    {
      "cell_type": "markdown",
      "source": [
        "- Mutability in Python refers to whether an object's state can be changed after it's created"
      ],
      "metadata": {
        "id": "4hs_uZS5mAkT"
      }
    },
    {
      "cell_type": "markdown",
      "source": [
        "6. Why are lists mutable, but tuples are immutable"
      ],
      "metadata": {
        "id": "ofCMu9VymL6D"
      }
    },
    {
      "cell_type": "markdown",
      "source": [
        "- Lists are mutable because they're designed for dynamic collections where elements need to be added, removed, or changed after creation. Tuples are immutable because they're designed for fixed collections of related items, often representing a single, unchangeable record or group of values."
      ],
      "metadata": {
        "id": "SYvjwoDxmRCb"
      }
    },
    {
      "cell_type": "markdown",
      "source": [
        "7.  What is the difference between “==” and “is” operators in Python"
      ],
      "metadata": {
        "id": "Cz03ZkF2mhe8"
      }
    },
    {
      "cell_type": "markdown",
      "source": [
        "- The \"==\" and \"is\" operators in Python both compare objects, but they do so in fundamentally different ways:\n",
        "\n",
        "== (Equality Operator): Checks for value equality. It determines if the values of two objects are the same. It compares the content or data stored within the objects.\n",
        "\n",
        "\n",
        "is (Identity Operator): Checks for object identity. It determines if two variables refer to the exact same object in memory. It compares the memory addresses (IDs) of the objects"
      ],
      "metadata": {
        "id": "R2oZlWUIoJQw"
      }
    },
    {
      "cell_type": "markdown",
      "source": [
        "8. What are logical operators in Python"
      ],
      "metadata": {
        "id": "_clRjxVBoUE3"
      }
    },
    {
      "cell_type": "markdown",
      "source": [
        "- Logical operators in Python are special keywords that combine or modify Boolean (True/False) expressions. They help you make decisions in your code based on multiple conditions.\n",
        "\n",
        "and: Returns True if both conditions it connects are True. If even one condition is False, the entire expression is False.\n",
        "\n",
        "or: Returns True if at least one of the conditions it connects is True. It only returns False if both conditions are False.\n",
        "\n",
        "not: Reverses the Boolean value of a condition. If a condition is True, not makes it False, and vice-versa"
      ],
      "metadata": {
        "id": "Uhx3bilWoeSv"
      }
    },
    {
      "cell_type": "markdown",
      "source": [
        "9. What is type casting in Python"
      ],
      "metadata": {
        "id": "p3WQs5uZpE3n"
      }
    },
    {
      "cell_type": "markdown",
      "source": [
        "- Type casting in Python is converting a value from one data type to another (e.g., from an integer to a string). 🔄 You do it using built-in functions like int(), float(), or str(). It's essential for ensuring data is in the correct format for operations or storage."
      ],
      "metadata": {
        "id": "Goj_zu9CpKeB"
      }
    },
    {
      "cell_type": "markdown",
      "source": [
        "10. What is the difference between implicit and explicit type casting"
      ],
      "metadata": {
        "id": "o1bqIQVTpW4P"
      }
    },
    {
      "cell_type": "markdown",
      "source": [
        "- Implicit type casting, is when Python automatically converts one data type to another without you explicitly telling it to. This usually happens in expressions where different data types are involved, and Python promotes the \"smaller\" or less complex type to the \"larger\" or more complex type to avoid data loss.\n",
        "\n",
        "When it happens: Typically during arithmetic operations between different numeric types.\n",
        "\n",
        "Goal: To prevent data loss and ensure the operation can proceed successfully.\n",
        "\n",
        "- Explicit type casting, or type conversion, is when the programmer deliberately converts a value from one data type to another using built-in functions like int(), float(), str(), list(), tuple(), etc.\n",
        "\n",
        "When it happens: When you specifically need a value to be of a certain type for an operation, storage, or display, and you use a conversion function.\n",
        "\n",
        "Goal: To force a specific type conversion, even if it might involve potential data loss (e.g., converting a float to an integer truncates decimals).\n",
        "\n"
      ],
      "metadata": {
        "id": "TuXQ2m7gpcQt"
      }
    },
    {
      "cell_type": "markdown",
      "source": [
        "11. What is the purpose of conditional statements in Python"
      ],
      "metadata": {
        "id": "EiIAsiS6ql62"
      }
    },
    {
      "cell_type": "markdown",
      "source": [
        "- Conditional statements in Python allow your program to **make decisions** and **execute different blocks of code based on whether a condition is True or False**.  They control the flow of your program, enabling it to respond dynamically to various inputs or situations.\n",
        "\n",
        "Essentially, they let your code say, \"If this is true, do A; otherwise, if that is true, do B; or if neither, do C.\""
      ],
      "metadata": {
        "id": "IZaxPVIhrJRu"
      }
    },
    {
      "cell_type": "markdown",
      "source": [],
      "metadata": {
        "id": "_kFWwJvLrYm5"
      }
    },
    {
      "cell_type": "markdown",
      "source": [
        "12. How does the elif statement work"
      ],
      "metadata": {
        "id": "629yuIH0rUwD"
      }
    },
    {
      "cell_type": "markdown",
      "source": [
        "The elif statement in Python works as an \"else if\" condition. It allows you to check an additional condition only if the preceding if or elif conditions were False.  It's used to test multiple conditions sequentially without nesting many if statements."
      ],
      "metadata": {
        "id": "xexwiFfBrd7A"
      }
    },
    {
      "cell_type": "markdown",
      "source": [],
      "metadata": {
        "id": "QeX7pqxbsWbM"
      }
    },
    {
      "cell_type": "code",
      "source": [
        "# Example of elif working\n",
        "temperature = 25\n",
        "\n",
        "if temperature < 0:\n",
        "    print(\"It's freezing!\")\n",
        "elif temperature < 20: # This condition is only checked if temperature < 0 was False\n",
        "    print(\"It's cold.\")\n",
        "elif temperature < 30: # This condition is only checked if both above were False\n",
        "    print(\"It's pleasant.\")\n",
        "else: # This block runs if all preceding if/elif conditions were False\n",
        "    print(\"It's hot!\")\n",
        "\n",
        "# Output for temperature = 25: It's pleasant."
      ],
      "metadata": {
        "id": "Sbc778g0sYEK"
      },
      "execution_count": null,
      "outputs": []
    },
    {
      "cell_type": "markdown",
      "source": [
        "13. What is the difference between for and while loops"
      ],
      "metadata": {
        "id": "kaaNe_YAsieq"
      }
    },
    {
      "cell_type": "markdown",
      "source": [
        "- A for loop is used for iterating over a sequence (like a list, tuple, string, or range) or other iterable objects. It executes a block of code a predetermined number of times, once for each item in the sequence. It automatically handles the iteration and knows when to stop.\n",
        "\n",
        "- A while loop is used for repeatedly executing a block of code as long as a specified condition remains True. The loop continues until the condition becomes False. You need to manually manage the condition within the loop to ensure it eventually becomes False and avoids an infinite loop"
      ],
      "metadata": {
        "id": "QWezoD99suRJ"
      }
    },
    {
      "cell_type": "markdown",
      "source": [
        "14. Describe a scenario where a while loop is more suitable than a for loop."
      ],
      "metadata": {
        "id": "035-bDpEtQXJ"
      }
    },
    {
      "cell_type": "markdown",
      "source": [
        "- A while loop is more suitable than a for loop when you need to repeat an action until a certain condition is met, and you don't know in advance how many times that action will need to occur.\n",
        "\n",
        "For example, imagine you're waiting for user input to be valid. You'd use a while loop to keep asking the user for input as long as their input is incorrect or invalid:"
      ],
      "metadata": {
        "id": "t5CnrjZotUwO"
      }
    },
    {
      "cell_type": "code",
      "source": [
        "password = \"\"\n",
        "while password != \"secret\":\n",
        "    password = input(\"Enter the password: \")\n",
        "    if password != \"secret\":\n",
        "        print(\"Incorrect password. Try again.\")\n",
        "\n",
        "print(\"Access granted!\")"
      ],
      "metadata": {
        "colab": {
          "base_uri": "https://localhost:8080/"
        },
        "id": "p4ca9JLGtdTN",
        "outputId": "4ff1299f-a2a5-4bd9-a8c8-5b6791d7bf1c"
      },
      "execution_count": 3,
      "outputs": [
        {
          "output_type": "stream",
          "name": "stdout",
          "text": [
            "Enter the password: secret\n",
            "Access granted!\n"
          ]
        }
      ]
    },
    {
      "cell_type": "markdown",
      "source": [
        "In this scenario, a for loop wouldn't work well because you don't know if the user will get the password right on the first try, the tenth try, or never. The while loop continuously checks the condition (password != \"secret\") and only stops when it becomes False (i.e., when the correct password is entered)."
      ],
      "metadata": {
        "id": "P-9rCn7GtnXk"
      }
    },
    {
      "cell_type": "markdown",
      "source": [],
      "metadata": {
        "id": "WA0IDnU7u4iD"
      }
    },
    {
      "cell_type": "markdown",
      "source": [
        "# Practical questions"
      ],
      "metadata": {
        "id": "5Tnt4PrUtr5i"
      }
    },
    {
      "cell_type": "markdown",
      "source": [
        "1. Write a Python program to print \"Hello, World!"
      ],
      "metadata": {
        "id": "B5lZXN3ivCD8"
      }
    },
    {
      "cell_type": "code",
      "source": [
        "print(\"Hello, World!\")"
      ],
      "metadata": {
        "colab": {
          "base_uri": "https://localhost:8080/"
        },
        "id": "HG8Y65i6vEUc",
        "outputId": "fc409059-4259-4112-eeed-58481f46ff16"
      },
      "execution_count": 5,
      "outputs": [
        {
          "output_type": "stream",
          "name": "stdout",
          "text": [
            "Hello, World!\n"
          ]
        }
      ]
    },
    {
      "cell_type": "markdown",
      "source": [
        "2. Write a Python program that displays your name and age."
      ],
      "metadata": {
        "id": "92mwlfAdvRj1"
      }
    },
    {
      "cell_type": "code",
      "source": [
        "Name = \"Pratiksha_Dwivedi\"\n",
        "Age = 24\n",
        "print (f'My name is {Name}')\n",
        "print (f'My age is  {Age}')"
      ],
      "metadata": {
        "colab": {
          "base_uri": "https://localhost:8080/"
        },
        "id": "a574_w4nvWmV",
        "outputId": "4494295e-6960-4226-9b81-335a79b0c387"
      },
      "execution_count": 9,
      "outputs": [
        {
          "output_type": "stream",
          "name": "stdout",
          "text": [
            "My name is Pratiksha_Dwivedi\n",
            "My age is  24\n"
          ]
        }
      ]
    },
    {
      "cell_type": "markdown",
      "source": [
        "3. Write code to print all the pre-defined keywords in Python using the keyword library"
      ],
      "metadata": {
        "id": "jzX2RXPjzRqm"
      }
    },
    {
      "cell_type": "code",
      "source": [
        "import keyword\n",
        "print (\"All predefined keywords in python: \")\n",
        "print (keyword.kwlist)"
      ],
      "metadata": {
        "colab": {
          "base_uri": "https://localhost:8080/"
        },
        "id": "Rx24n0oNzVwH",
        "outputId": "1265a6b9-bd0f-4da8-ee32-22112d37efc4"
      },
      "execution_count": 28,
      "outputs": [
        {
          "output_type": "stream",
          "name": "stdout",
          "text": [
            "All predefined keywords in python: \n",
            "['False', 'None', 'True', 'and', 'as', 'assert', 'async', 'await', 'break', 'class', 'continue', 'def', 'del', 'elif', 'else', 'except', 'finally', 'for', 'from', 'global', 'if', 'import', 'in', 'is', 'lambda', 'nonlocal', 'not', 'or', 'pass', 'raise', 'return', 'try', 'while', 'with', 'yield']\n"
          ]
        }
      ]
    },
    {
      "cell_type": "markdown",
      "source": [
        "4. Write a program that checks if a given word is a Python keyword."
      ],
      "metadata": {
        "id": "OyvcXyek1a5T"
      }
    },
    {
      "cell_type": "code",
      "source": [
        "keywords = list(keyword.kwlist)\n",
        "variable = input(\"enter python keyword\")\n",
        "if variable in keywords:\n",
        "  print(\"it is python keyword\")\n",
        "else:\n",
        "  print(\"it is not python keyword\")"
      ],
      "metadata": {
        "colab": {
          "base_uri": "https://localhost:8080/"
        },
        "id": "afEbsUB21gP5",
        "outputId": "52afd77c-4870-47ad-f40f-5ce87534fc81"
      },
      "execution_count": 167,
      "outputs": [
        {
          "output_type": "stream",
          "name": "stdout",
          "text": [
            "enter python keywordNone\n",
            "it is python keyword\n"
          ]
        }
      ]
    },
    {
      "cell_type": "markdown",
      "source": [
        "5.  Create a list and tuple in Python, and demonstrate how attempting to change an element works differently\n",
        "for each"
      ],
      "metadata": {
        "id": "33ad5_gN3ZPV"
      }
    },
    {
      "cell_type": "code",
      "source": [
        "#list - mutable\n",
        "shopping_list = [\"egg\", \"onion\", \"brinjal\", \"milk\"]\n",
        "shopping_list[0] = \"tomato\"\n",
        "print(f\"list after change: {shopping_list}\")\n",
        "\n",
        "#tuple - immutable\n",
        "emp_code = (224, 556, 778, 992)\n",
        "emp_code[0] = 396\n",
        "print(f\"code after change: {emp_code}\")"
      ],
      "metadata": {
        "colab": {
          "base_uri": "https://localhost:8080/",
          "height": 219
        },
        "id": "v_BWqkx33c8i",
        "outputId": "8db3228c-70d0-4478-c137-81c52e20aa90"
      },
      "execution_count": 55,
      "outputs": [
        {
          "output_type": "stream",
          "name": "stdout",
          "text": [
            "list after change: ['tomato', 'onion', 'brinjal', 'milk']\n"
          ]
        },
        {
          "output_type": "error",
          "ename": "TypeError",
          "evalue": "'tuple' object does not support item assignment",
          "traceback": [
            "\u001b[0;31m---------------------------------------------------------------------------\u001b[0m",
            "\u001b[0;31mTypeError\u001b[0m                                 Traceback (most recent call last)",
            "\u001b[0;32m/tmp/ipython-input-55-863323300.py\u001b[0m in \u001b[0;36m<cell line: 0>\u001b[0;34m()\u001b[0m\n\u001b[1;32m      6\u001b[0m \u001b[0;31m#tuple - immutable\u001b[0m\u001b[0;34m\u001b[0m\u001b[0;34m\u001b[0m\u001b[0m\n\u001b[1;32m      7\u001b[0m \u001b[0memp_code\u001b[0m \u001b[0;34m=\u001b[0m \u001b[0;34m(\u001b[0m\u001b[0;36m224\u001b[0m\u001b[0;34m,\u001b[0m \u001b[0;36m556\u001b[0m\u001b[0;34m,\u001b[0m \u001b[0;36m778\u001b[0m\u001b[0;34m,\u001b[0m \u001b[0;36m992\u001b[0m\u001b[0;34m)\u001b[0m\u001b[0;34m\u001b[0m\u001b[0;34m\u001b[0m\u001b[0m\n\u001b[0;32m----> 8\u001b[0;31m \u001b[0memp_code\u001b[0m\u001b[0;34m[\u001b[0m\u001b[0;36m0\u001b[0m\u001b[0;34m]\u001b[0m \u001b[0;34m=\u001b[0m \u001b[0;36m396\u001b[0m\u001b[0;34m\u001b[0m\u001b[0;34m\u001b[0m\u001b[0m\n\u001b[0m\u001b[1;32m      9\u001b[0m \u001b[0mprint\u001b[0m\u001b[0;34m(\u001b[0m\u001b[0;34mf\"code after change: {emp_code}\"\u001b[0m\u001b[0;34m)\u001b[0m\u001b[0;34m\u001b[0m\u001b[0;34m\u001b[0m\u001b[0m\n",
            "\u001b[0;31mTypeError\u001b[0m: 'tuple' object does not support item assignment"
          ]
        }
      ]
    },
    {
      "cell_type": "markdown",
      "source": [
        "6.  Write a function to demonstrate the behavior of mutable and immutable arguments."
      ],
      "metadata": {
        "id": "b6KfeSBV9Ckc"
      }
    },
    {
      "cell_type": "code",
      "source": [
        "#mutable\n",
        "makeup_list = [\"eyelashes\", \"eyeshadow\", \"eyebrowpencil\"]\n",
        "makeup_list[0] = \"eyelense\"\n",
        "print(f\"makeup after change:{makeup_list}\")\n",
        "\n",
        "#immutable\n",
        "roll_no = (23, 24, 25, 26)\n",
        "roll_no[0] = 29\n",
        "print(f\"number after change:{roll_no}\")"
      ],
      "metadata": {
        "colab": {
          "base_uri": "https://localhost:8080/",
          "height": 219
        },
        "id": "9cHEdMIq-m7q",
        "outputId": "8f761513-e1e9-4099-9c9a-468ac53a7cf1"
      },
      "execution_count": 62,
      "outputs": [
        {
          "output_type": "stream",
          "name": "stdout",
          "text": [
            "makeup after change:['eyelense', 'eyeshadow', 'eyebrowpencil']\n"
          ]
        },
        {
          "output_type": "error",
          "ename": "TypeError",
          "evalue": "'tuple' object does not support item assignment",
          "traceback": [
            "\u001b[0;31m---------------------------------------------------------------------------\u001b[0m",
            "\u001b[0;31mTypeError\u001b[0m                                 Traceback (most recent call last)",
            "\u001b[0;32m/tmp/ipython-input-62-1666465322.py\u001b[0m in \u001b[0;36m<cell line: 0>\u001b[0;34m()\u001b[0m\n\u001b[1;32m      6\u001b[0m \u001b[0;31m#immutable\u001b[0m\u001b[0;34m\u001b[0m\u001b[0;34m\u001b[0m\u001b[0m\n\u001b[1;32m      7\u001b[0m \u001b[0mroll_no\u001b[0m \u001b[0;34m=\u001b[0m \u001b[0;34m(\u001b[0m\u001b[0;36m23\u001b[0m\u001b[0;34m,\u001b[0m \u001b[0;36m24\u001b[0m\u001b[0;34m,\u001b[0m \u001b[0;36m25\u001b[0m\u001b[0;34m,\u001b[0m \u001b[0;36m26\u001b[0m\u001b[0;34m)\u001b[0m\u001b[0;34m\u001b[0m\u001b[0;34m\u001b[0m\u001b[0m\n\u001b[0;32m----> 8\u001b[0;31m \u001b[0mroll_no\u001b[0m\u001b[0;34m[\u001b[0m\u001b[0;36m0\u001b[0m\u001b[0;34m]\u001b[0m \u001b[0;34m=\u001b[0m \u001b[0;36m29\u001b[0m\u001b[0;34m\u001b[0m\u001b[0;34m\u001b[0m\u001b[0m\n\u001b[0m\u001b[1;32m      9\u001b[0m \u001b[0mprint\u001b[0m\u001b[0;34m(\u001b[0m\u001b[0;34mf\"number after change:{roll_no}\"\u001b[0m\u001b[0;34m)\u001b[0m\u001b[0;34m\u001b[0m\u001b[0;34m\u001b[0m\u001b[0m\n",
            "\u001b[0;31mTypeError\u001b[0m: 'tuple' object does not support item assignment"
          ]
        }
      ]
    },
    {
      "cell_type": "markdown",
      "source": [
        "7.  Write a program that performs basic arithmetic operations on two user-input numbers."
      ],
      "metadata": {
        "id": "4EgJ24mV_38D"
      }
    },
    {
      "cell_type": "code",
      "source": [
        "a = int(input(\"enter a number \"))\n",
        "b = int(input(\"enter a number \"))\n",
        "print(f\"sum:{a+b}\")\n",
        "print(f\"multiply:{a*b}\")\n",
        "print(f\"divide:{a/b}\")\n",
        "print(f\"minus:{a-b }\")"
      ],
      "metadata": {
        "colab": {
          "base_uri": "https://localhost:8080/"
        },
        "id": "mUI9Mg3d_8Vp",
        "outputId": "5180c012-5b77-40d8-f04b-ffca9cff8b0c"
      },
      "execution_count": 165,
      "outputs": [
        {
          "output_type": "stream",
          "name": "stdout",
          "text": [
            "enter a number 20\n",
            "enter a number 15\n",
            "sum:35\n",
            "multiply:300\n",
            "divide:1.3333333333333333\n",
            "minus:5\n"
          ]
        }
      ]
    },
    {
      "cell_type": "markdown",
      "source": [
        "8. Write a program to demonstrate the use of logical operators"
      ],
      "metadata": {
        "id": "AvPNcLvnBw63"
      }
    },
    {
      "cell_type": "code",
      "source": [
        "#logical - and,or,not\n",
        "#and\n",
        "morning = \"sunny\"\n",
        "evening = \"rainy\"\n",
        "if morning is \"sunny\" and evening is \"cold\" :\n",
        "  print(\"it is sunny\")\n",
        "else:\n",
        "  print(\"it is not\")\n",
        "  #or\n",
        "  morning = \"sunny\"\n",
        "evening = \"rainy\"\n",
        "if morning is \"sunny\" or evening is \"cold\" :\n",
        "  print(\"it is sunny\")\n",
        "else:\n",
        "  print(\"it is not\")\n",
        "  #not\n",
        "  morning = \"sunny\"\n",
        "evening = \"rainy\"\n",
        "if morning is not \"sunny\" and evening is not  \"cold\" :\n",
        "  print(\"it is sunny\")\n",
        "else:\n",
        "  print(\"it is not\")"
      ],
      "metadata": {
        "colab": {
          "base_uri": "https://localhost:8080/"
        },
        "id": "mrLI-u1rBz7G",
        "outputId": "831fc585-2ec6-4145-a010-c588ad2e8af8"
      },
      "execution_count": 85,
      "outputs": [
        {
          "output_type": "stream",
          "name": "stdout",
          "text": [
            "it is not\n",
            "it is sunny\n",
            "it is not\n"
          ]
        },
        {
          "output_type": "stream",
          "name": "stderr",
          "text": [
            "<>:5: SyntaxWarning: \"is\" with a literal. Did you mean \"==\"?\n",
            "<>:5: SyntaxWarning: \"is\" with a literal. Did you mean \"==\"?\n",
            "<>:12: SyntaxWarning: \"is\" with a literal. Did you mean \"==\"?\n",
            "<>:12: SyntaxWarning: \"is\" with a literal. Did you mean \"==\"?\n",
            "<>:19: SyntaxWarning: \"is not\" with a literal. Did you mean \"!=\"?\n",
            "<>:19: SyntaxWarning: \"is not\" with a literal. Did you mean \"!=\"?\n",
            "<>:5: SyntaxWarning: \"is\" with a literal. Did you mean \"==\"?\n",
            "<>:5: SyntaxWarning: \"is\" with a literal. Did you mean \"==\"?\n",
            "<>:12: SyntaxWarning: \"is\" with a literal. Did you mean \"==\"?\n",
            "<>:12: SyntaxWarning: \"is\" with a literal. Did you mean \"==\"?\n",
            "<>:19: SyntaxWarning: \"is not\" with a literal. Did you mean \"!=\"?\n",
            "<>:19: SyntaxWarning: \"is not\" with a literal. Did you mean \"!=\"?\n",
            "/tmp/ipython-input-85-532918523.py:5: SyntaxWarning: \"is\" with a literal. Did you mean \"==\"?\n",
            "  if morning is \"sunny\" and evening is \"cold\" :\n",
            "/tmp/ipython-input-85-532918523.py:5: SyntaxWarning: \"is\" with a literal. Did you mean \"==\"?\n",
            "  if morning is \"sunny\" and evening is \"cold\" :\n",
            "/tmp/ipython-input-85-532918523.py:12: SyntaxWarning: \"is\" with a literal. Did you mean \"==\"?\n",
            "  if morning is \"sunny\" or evening is \"cold\" :\n",
            "/tmp/ipython-input-85-532918523.py:12: SyntaxWarning: \"is\" with a literal. Did you mean \"==\"?\n",
            "  if morning is \"sunny\" or evening is \"cold\" :\n",
            "/tmp/ipython-input-85-532918523.py:19: SyntaxWarning: \"is not\" with a literal. Did you mean \"!=\"?\n",
            "  if morning is not \"sunny\" and evening is not  \"cold\" :\n",
            "/tmp/ipython-input-85-532918523.py:19: SyntaxWarning: \"is not\" with a literal. Did you mean \"!=\"?\n",
            "  if morning is not \"sunny\" and evening is not  \"cold\" :\n"
          ]
        }
      ]
    },
    {
      "cell_type": "markdown",
      "source": [
        "9. Write a Python program to convert user input from string to integer, float, and boolean types."
      ],
      "metadata": {
        "id": "8gJTzDTvHjYi"
      }
    },
    {
      "cell_type": "code",
      "source": [
        "a = input(\"enter a number: \")\n",
        "new_a = int(a)\n",
        "print(new_a, type(new_a))\n",
        "x = float(a)\n",
        "print(x, type(x))\n",
        "y = bool(a)\n",
        "print( y, type(y))"
      ],
      "metadata": {
        "colab": {
          "base_uri": "https://localhost:8080/"
        },
        "id": "bREHxaZ7Hoah",
        "outputId": "39158c0a-4c3e-477d-ae80-657223440f92"
      },
      "execution_count": 104,
      "outputs": [
        {
          "output_type": "stream",
          "name": "stdout",
          "text": [
            "enter a number: 3\n",
            "3 <class 'int'>\n",
            "3.0 <class 'float'>\n",
            "True <class 'bool'>\n"
          ]
        }
      ]
    },
    {
      "cell_type": "markdown",
      "source": [
        "10 . Write code to demonstrate type casting with list elements."
      ],
      "metadata": {
        "id": "hE8MrzPsKn1v"
      }
    },
    {
      "cell_type": "code",
      "source": [
        "emp_code = [\"223\", \"455\", \"793\"]\n",
        "for i in range(len(emp_code)):\n",
        "  emp_code[i] = int(emp_code[i])\n",
        "print(emp_code, type(emp_code[0]))\n"
      ],
      "metadata": {
        "colab": {
          "base_uri": "https://localhost:8080/"
        },
        "id": "MgUwhyL_KpnD",
        "outputId": "1fb1c84c-10b8-4fe4-9ddd-c76346e5bf8f"
      },
      "execution_count": 127,
      "outputs": [
        {
          "output_type": "stream",
          "name": "stdout",
          "text": [
            "[223, 455, 793] <class 'int'>\n"
          ]
        }
      ]
    },
    {
      "cell_type": "code",
      "source": [
        "list(range(3))"
      ],
      "metadata": {
        "colab": {
          "base_uri": "https://localhost:8080/"
        },
        "id": "Rd7Bva5gSpQ7",
        "outputId": "73975136-fb7a-4f66-9bb7-311e52238743"
      },
      "execution_count": 115,
      "outputs": [
        {
          "output_type": "execute_result",
          "data": {
            "text/plain": [
              "[0, 1, 2]"
            ]
          },
          "metadata": {},
          "execution_count": 115
        }
      ]
    },
    {
      "cell_type": "markdown",
      "source": [
        "11. Write a program that checks if a number is positive, negative, or zero."
      ],
      "metadata": {
        "id": "o5tkYgWqXuuX"
      }
    },
    {
      "cell_type": "code",
      "source": [
        "number = int(input(\"enter a number: \"))\n",
        "if number > 0:\n",
        "    print(f\"The number {number} is positive.\")\n",
        "elif number < 0:\n",
        "    print(f\"The number {number} is negative.\")\n",
        "else:\n",
        "    print(f\"The number {number} is zero.\")\n",
        "\n",
        "\n"
      ],
      "metadata": {
        "colab": {
          "base_uri": "https://localhost:8080/"
        },
        "id": "sq8_kf_-Xyck",
        "outputId": "db1afb3d-8110-41ff-cc2b-99aa4ea615cc"
      },
      "execution_count": 164,
      "outputs": [
        {
          "output_type": "stream",
          "name": "stdout",
          "text": [
            "enter a number: 20\n",
            "The number 20 is positive.\n"
          ]
        }
      ]
    },
    {
      "cell_type": "markdown",
      "source": [],
      "metadata": {
        "id": "rq3oeyzZZ2cF"
      }
    },
    {
      "cell_type": "markdown",
      "source": [
        "12. Write a for loop to print numbers from 1 to 10\n",
        "\n",
        "---\n",
        "\n"
      ],
      "metadata": {
        "id": "X-DOGq4iaBHU"
      }
    },
    {
      "cell_type": "code",
      "source": [
        "for i in range(1, 11):\n",
        "  print(i)"
      ],
      "metadata": {
        "colab": {
          "base_uri": "https://localhost:8080/"
        },
        "id": "iDc0SlEoaL0U",
        "outputId": "4a74bead-6372-442e-e9d5-63f62a1c6a93"
      },
      "execution_count": 139,
      "outputs": [
        {
          "output_type": "stream",
          "name": "stdout",
          "text": [
            "1\n",
            "2\n",
            "3\n",
            "4\n",
            "5\n",
            "6\n",
            "7\n",
            "8\n",
            "9\n",
            "10\n"
          ]
        }
      ]
    },
    {
      "cell_type": "code",
      "source": [],
      "metadata": {
        "id": "6LCgbaIWZ2En"
      },
      "execution_count": null,
      "outputs": []
    },
    {
      "cell_type": "markdown",
      "source": [
        "13. Write a Python program to find the sum of all even numbers between 1 and 50."
      ],
      "metadata": {
        "id": "kRtOP73_aUCO"
      }
    },
    {
      "cell_type": "code",
      "source": [
        "total_sum = 0\n",
        "for num in range(1, 51):\n",
        "  if num %2 == 0:\n",
        "    total_sum += num\n",
        "print(f\"The sum of even numbers between 1 and 50 is: {total_sum}\")\n",
        "\n"
      ],
      "metadata": {
        "colab": {
          "base_uri": "https://localhost:8080/"
        },
        "id": "_pIyWsPHaatR",
        "outputId": "b0ecb4dc-b1ae-4490-febd-38c71ab85cbe"
      },
      "execution_count": 155,
      "outputs": [
        {
          "output_type": "stream",
          "name": "stdout",
          "text": [
            "The sum of even numbers between 1 and 50 is: 650\n"
          ]
        }
      ]
    },
    {
      "cell_type": "markdown",
      "source": [
        "14. Write a program to reverse a string using a while loop."
      ],
      "metadata": {
        "id": "-t9gKUq5bejF"
      }
    },
    {
      "cell_type": "code",
      "source": [
        "x = input(\"enter a strig\")\n",
        "ans = \"\"\n",
        "i = 0\n",
        "while i < len(x):\n",
        "  ans = ans + x[len(x)-1-i]\n",
        "  i += 1\n",
        "print(f\"the reverse of {x} is {ans}\")\n"
      ],
      "metadata": {
        "colab": {
          "base_uri": "https://localhost:8080/"
        },
        "id": "eenUDd5UbjTE",
        "outputId": "e53b41bb-2da9-4e5a-89c2-c29d7a5c6d0d"
      },
      "execution_count": 161,
      "outputs": [
        {
          "output_type": "stream",
          "name": "stdout",
          "text": [
            "enter a strigapple\n",
            "the reverse of apple is elppa\n"
          ]
        }
      ]
    },
    {
      "cell_type": "markdown",
      "source": [
        "15.  Write a Python program to calculate the factorial of a number provided by the user using a while loop."
      ],
      "metadata": {
        "id": "7KU0r2nTbscn"
      }
    },
    {
      "cell_type": "code",
      "source": [
        "n = int(input(\"enter a number n: \"))\n",
        "fact = 1\n",
        "while n > 0:\n",
        "  fact = fact*n\n",
        "  n -= 1\n",
        "print(f\"The factorial of number is: {fact}\")"
      ],
      "metadata": {
        "colab": {
          "base_uri": "https://localhost:8080/"
        },
        "id": "kIlfWZEBbxPX",
        "outputId": "09688d3a-e44e-48f6-b664-649afcee72fd"
      },
      "execution_count": 156,
      "outputs": [
        {
          "output_type": "stream",
          "name": "stdout",
          "text": [
            "enter a number n: 20\n",
            "The factorial of number is: 2432902008176640000\n"
          ]
        }
      ]
    }
  ]
}